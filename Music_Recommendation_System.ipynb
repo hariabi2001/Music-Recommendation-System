{
  "nbformat": 4,
  "nbformat_minor": 0,
  "metadata": {
    "colab": {
      "provenance": []
    },
    "kernelspec": {
      "name": "python3",
      "display_name": "Python 3"
    },
    "language_info": {
      "name": "python"
    }
  },
  "cells": [
    {
      "cell_type": "code",
      "source": [
        "import pandas as pd\n",
        "import numpy as np\n",
        "from sklearn.cluster import KMeans\n",
        "from sklearn.preprocessing import StandardScaler\n",
        "\n",
        "music_data = pd.read_csv('data.csv')\n",
        "# Assuming you have selected relevant columns for clustering\n",
        "features = ['acousticness', 'danceability', 'energy']\n",
        "music_data_scaled = music_data[features]"
      ],
      "metadata": {
        "id": "JTYa07mBBqQu"
      },
      "execution_count": 1,
      "outputs": []
    },
    {
      "cell_type": "code",
      "source": [
        "# Perform K-means clustering\n",
        "num_clusters = 5\n",
        "kmeans = KMeans(n_clusters=num_clusters, random_state=42)\n",
        "kmeans.fit(music_data_scaled)\n",
        "\n",
        "# Assuming the user's preferred music features\n",
        "user_preferences = [0.8, 0.6, 0.9]  # acousticness, danceability, energy\n",
        "\n",
        "# Scale the user's preferences using the same scaler used for data scaling\n",
        "scaler = StandardScaler()\n",
        "scaler.fit_transform(music_data[features])\n",
        "user_preferences_scaled = scaler.transform([user_preferences])\n",
        "\n",
        "# Combine the dataset and user preferences\n",
        "combined_data = np.vstack((music_data_scaled, user_preferences_scaled))"
      ],
      "metadata": {
        "colab": {
          "base_uri": "https://localhost:8080/"
        },
        "id": "94RPSpyaJnnt",
        "outputId": "524d7f69-02ac-47b2-a3cf-c808ecb1f1cc"
      },
      "execution_count": 2,
      "outputs": [
        {
          "output_type": "stream",
          "name": "stderr",
          "text": [
            "/usr/local/lib/python3.10/dist-packages/sklearn/cluster/_kmeans.py:870: FutureWarning: The default value of `n_init` will change from 10 to 'auto' in 1.4. Set the value of `n_init` explicitly to suppress the warning\n",
            "  warnings.warn(\n",
            "/usr/local/lib/python3.10/dist-packages/sklearn/base.py:439: UserWarning: X does not have valid feature names, but StandardScaler was fitted with feature names\n",
            "  warnings.warn(\n"
          ]
        }
      ]
    },
    {
      "cell_type": "code",
      "source": [
        "# Perform K-means clustering on the combined data\n",
        "kmeans.fit(combined_data)\n",
        "\n",
        "# Get the cluster labels for the dataset\n",
        "cluster_labels = kmeans.labels_[:-1]  # Exclude the user preferences\n",
        "\n",
        "# Get the cluster label for the user preferences\n",
        "user_cluster = kmeans.labels_[-1]  # The last label corresponds to the user preferences\n",
        "\n",
        "# Find other songs within the same cluster as user preferences\n",
        "recommended_songs = music_data_scaled[cluster_labels == user_cluster]\n",
        "features = ['artists', 'name', 'year']\n",
        "\n",
        "matched_indexes = recommended_songs.index\n",
        "\n",
        "recom = music_data[features].iloc[matched_indexes]\n",
        "\n",
        "final_data = pd.concat([recommended_songs, recom], axis=1)\n",
        "final_data = final_data.reset_index(drop=True)\n",
        "\n",
        "print(final_data)\n",
        "\n",
        "final_data.to_csv('output.csv', index=False)"
      ],
      "metadata": {
        "colab": {
          "base_uri": "https://localhost:8080/"
        },
        "id": "Zm4Vz_qTF8El",
        "outputId": "174bffd6-52e1-4594-b699-12e34f42a992"
      },
      "execution_count": 3,
      "outputs": [
        {
          "output_type": "stream",
          "name": "stderr",
          "text": [
            "/usr/local/lib/python3.10/dist-packages/sklearn/cluster/_kmeans.py:870: FutureWarning: The default value of `n_init` will change from 10 to 'auto' in 1.4. Set the value of `n_init` explicitly to suppress the warning\n",
            "  warnings.warn(\n"
          ]
        },
        {
          "output_type": "stream",
          "name": "stdout",
          "text": [
            "       acousticness  danceability  energy  \\\n",
            "0           0.10500         0.699   0.838   \n",
            "1           0.29000         0.344   0.857   \n",
            "2           0.00142         0.450   0.873   \n",
            "3           0.01240         0.500   0.676   \n",
            "4           0.18200         0.593   0.904   \n",
            "...             ...           ...     ...   \n",
            "38575       0.19900         0.636   0.841   \n",
            "38576       0.25400         0.506   0.787   \n",
            "38577       0.04520         0.655   0.719   \n",
            "38578       0.02270         0.619   0.719   \n",
            "38579       0.07140         0.646   0.761   \n",
            "\n",
            "                                    artists                              name  \\\n",
            "0                     ['Shungi Music Crew']                   Trip to Limpopo   \n",
            "1                      ['Cellular Project']                       Purple Daze   \n",
            "2                          ['Shiny Gnomes']                          The Nest   \n",
            "3                          ['Jeff Stetson']                    Nowhere Street   \n",
            "4      ['Feliciano Brunelli Y Su Orquesta']  Booguie del Burrito - Remastered   \n",
            "...                                     ...                               ...   \n",
            "38575                          ['CHUNG HA']                      Stay Tonight   \n",
            "38576        ['YoungBoy Never Broke Again']                      Fine By Time   \n",
            "38577                    ['Kelly Clarkson']                        I Dare You   \n",
            "38578       ['Trey Songz', 'Summer Walker']   Back Home (feat. Summer Walker)   \n",
            "38579         ['Cash Cash', 'Andy Grammer']                       I Found You   \n",
            "\n",
            "       year  \n",
            "0      1928  \n",
            "1      1930  \n",
            "2      1930  \n",
            "3      1935  \n",
            "4      1945  \n",
            "...     ...  \n",
            "38575  2020  \n",
            "38576  2020  \n",
            "38577  2020  \n",
            "38578  2020  \n",
            "38579  2020  \n",
            "\n",
            "[38580 rows x 6 columns]\n"
          ]
        }
      ]
    },
    {
      "cell_type": "code",
      "source": [],
      "metadata": {
        "id": "KrdSF8h8J4Po"
      },
      "execution_count": 3,
      "outputs": []
    }
  ]
}